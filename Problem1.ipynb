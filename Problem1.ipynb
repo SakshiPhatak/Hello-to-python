{
 "cells": [
  {
   "cell_type": "code",
   "execution_count": 19,
   "metadata": {},
   "outputs": [],
   "source": [
    "orig=\"asdf@re#tyu$oi!\""
   ]
  },
  {
   "cell_type": "code",
   "execution_count": 20,
   "metadata": {},
   "outputs": [
    {
     "name": "stdout",
     "output_type": "stream",
     "text": [
      "fdsa@er#uyt$io!\n"
     ]
    }
   ],
   "source": [
    "list1=list(orig)\n",
    "list1.append(\"~\")\n",
    "temp=list()\n",
    "res=list()\n",
    "list1\n",
    "for i in list1:\n",
    "    if i.isalpha():\n",
    "        temp.append(i)\n",
    "    elif i==\"~\":\n",
    "        res.append(temp[::-1])\n",
    "        temp.clear()\n",
    "        res.append(i)\n",
    "    else:\n",
    "        res.append(temp[::-1])\n",
    "        temp.clear()\n",
    "        res.append(i)\n",
    "result=\"\"\n",
    "for i in res:\n",
    "    result+= \"\".join(i)\n",
    "print(result[:-1:]) \n",
    "        \n",
    "        \n",
    "        "
   ]
  },
  {
   "cell_type": "code",
   "execution_count": null,
   "metadata": {},
   "outputs": [],
   "source": []
  },
  {
   "cell_type": "code",
   "execution_count": 5,
   "metadata": {},
   "outputs": [],
   "source": []
  },
  {
   "cell_type": "code",
   "execution_count": null,
   "metadata": {},
   "outputs": [],
   "source": []
  },
  {
   "cell_type": "code",
   "execution_count": null,
   "metadata": {},
   "outputs": [],
   "source": []
  }
 ],
 "metadata": {
  "kernelspec": {
   "display_name": "Python 3",
   "language": "python",
   "name": "python3"
  },
  "language_info": {
   "codemirror_mode": {
    "name": "ipython",
    "version": 3
   },
   "file_extension": ".py",
   "mimetype": "text/x-python",
   "name": "python",
   "nbconvert_exporter": "python",
   "pygments_lexer": "ipython3",
   "version": "3.7.6"
  }
 },
 "nbformat": 4,
 "nbformat_minor": 4
}
