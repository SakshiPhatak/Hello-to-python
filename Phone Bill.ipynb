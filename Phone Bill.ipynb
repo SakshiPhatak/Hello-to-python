{
 "cells": [
  {
   "cell_type": "code",
   "execution_count": 6,
   "metadata": {},
   "outputs": [],
   "source": [
    "call_log = [\n",
    " {'name':'Abhi','phone_no': 9561372339,'call_duration':'02:00:00'},\n",
    " {'name':'Surya','phone_no': 7798879792,'call_duration':'15:00:00'},\n",
    " {'name':'Chetan','phone_no': 9561372338,'call_duration':'05:30:00'},\n",
    " {'name':'Kiran','phone_no': 9561372337,'call_duration':'16:30:00'},\n",
    " {'name':'Kishore','phone_no': 9561372336,'call_duration':'04:59:00'},\n",
    " {'name':'Shubham','phone_no': 9561372333,'call_duration':'12:30:00'},\n",
    "]\n"
   ]
  },
  {
   "cell_type": "code",
   "execution_count": 23,
   "metadata": {},
   "outputs": [
    {
     "data": {
      "text/plain": [
       "[{'name': 'Abhi',\n",
       "  'phone_no': 9561372339,\n",
       "  'call_duration': '02:00:00',\n",
       "  'bill': 360.0},\n",
       " {'name': 'Surya',\n",
       "  'phone_no': 7798879792,\n",
       "  'call_duration': '15:00:00',\n",
       "  'bill': 6300.0},\n",
       " {'name': 'Chetan',\n",
       "  'phone_no': 9561372338,\n",
       "  'call_duration': '05:30:00',\n",
       "  'bill': 2310.0},\n",
       " {'name': 'Kiran',\n",
       "  'phone_no': 9561372337,\n",
       "  'call_duration': '16:30:00',\n",
       "  'bill': 'FREE!!!'},\n",
       " {'name': 'Kishore',\n",
       "  'phone_no': 9561372336,\n",
       "  'call_duration': '04:59:00',\n",
       "  'bill': 897.0},\n",
       " {'name': 'Shubham',\n",
       "  'phone_no': 9561372333,\n",
       "  'call_duration': '12:30:00',\n",
       "  'bill': 5250.0}]"
      ]
     },
     "execution_count": 23,
     "metadata": {},
     "output_type": "execute_result"
    }
   ],
   "source": [
    "for i in call_log:\n",
    "    dict1= i\n",
    "    time=dict1[\"call_duration\"]\n",
    "    min=int(time[0:2])\n",
    "    sec=int(time[3:5])\n",
    "    msec=int(time[6:8])\n",
    "    totaltime=(min*60)+(msec/60)+sec\n",
    "    if totaltime<=5*60:\n",
    "        bill= totaltime*3\n",
    "    elif totaltime<=15*60:\n",
    "        bill=totaltime*7\n",
    "    else:\n",
    "        bill=\"FREE!!!\"\n",
    "    add={'bill':bill}\n",
    "    dict1.update(add)\n",
    "call_log\n",
    "        \n",
    "    "
   ]
  },
  {
   "cell_type": "code",
   "execution_count": null,
   "metadata": {},
   "outputs": [],
   "source": []
  },
  {
   "cell_type": "code",
   "execution_count": null,
   "metadata": {},
   "outputs": [],
   "source": []
  }
 ],
 "metadata": {
  "kernelspec": {
   "display_name": "Python 3",
   "language": "python",
   "name": "python3"
  },
  "language_info": {
   "codemirror_mode": {
    "name": "ipython",
    "version": 3
   },
   "file_extension": ".py",
   "mimetype": "text/x-python",
   "name": "python",
   "nbconvert_exporter": "python",
   "pygments_lexer": "ipython3",
   "version": "3.7.6"
  }
 },
 "nbformat": 4,
 "nbformat_minor": 4
}
